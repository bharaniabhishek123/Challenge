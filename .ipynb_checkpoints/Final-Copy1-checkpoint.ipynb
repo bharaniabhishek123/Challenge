{
 "cells": [
  {
   "cell_type": "code",
   "execution_count": 133,
   "metadata": {},
   "outputs": [],
   "source": [
    "import pandas as pd\n",
    "import matplotlib.pyplot as plt\n",
    "import probscale\n",
    "import seaborn as sns\n",
    "import numpy as np\n",
    "from scipy.stats import norm\n",
    "from scipy.stats import skew\n",
    "from sklearn.preprocessing import StandardScaler\n",
    "import matplotlib.pyplot as plt\n",
    "from scipy import stats\n",
    "import warnings\n",
    "warnings.filterwarnings('ignore')\n",
    "%matplotlib inline"
   ]
  },
  {
   "cell_type": "code",
   "execution_count": 134,
   "metadata": {
    "collapsed": true
   },
   "outputs": [],
   "source": [
    "order_df = pd.read_csv(\"order_items.csv\")\n",
    "df_test = pd.read_csv(\"test_trips.csv\")\n",
    "df_train = pd.read_csv(\"train_trips.csv\")"
   ]
  },
  {
   "cell_type": "code",
   "execution_count": 135,
   "metadata": {},
   "outputs": [
    {
     "data": {
      "text/plain": [
       "Index(['trip_id', 'shopper_id', 'fulfillment_model', 'store_id',\n",
       "       'shopping_started_at', 'shopping_ended_at'],\n",
       "      dtype='object')"
      ]
     },
     "execution_count": 135,
     "metadata": {},
     "output_type": "execute_result"
    }
   ],
   "source": [
    "df_train.columns"
   ]
  },
  {
   "cell_type": "code",
   "execution_count": 136,
   "metadata": {},
   "outputs": [
    {
     "data": {
      "text/plain": [
       "Index(['trip_id', 'item_id', 'department_name', 'quantity'], dtype='object')"
      ]
     },
     "execution_count": 136,
     "metadata": {},
     "output_type": "execute_result"
    }
   ],
   "source": [
    "order_df.columns"
   ]
  },
  {
   "cell_type": "markdown",
   "metadata": {},
   "source": [
    "# 1. Data Cleaning\n",
    "We need to find the Shopping time which is difference between shopping_ended_at and shopping_started_at.\n",
    "Extracting Shopping time...."
   ]
  },
  {
   "cell_type": "code",
   "execution_count": 137,
   "metadata": {
    "collapsed": true
   },
   "outputs": [],
   "source": [
    "#First, convert datetime strings into datetime\n",
    "\n",
    "df_train[\"shopping_started_at\"] = pd.to_datetime(df_train[\"shopping_started_at\"], format='%Y-%m-%d %H:%M:%S')\n",
    "df_train[\"shopping_ended_at\"] = pd.to_datetime(df_train[\"shopping_ended_at\"], format='%Y-%m-%d %H:%M:%S')\n",
    "\n",
    "df_train['shopping_time'] = pd.to_datetime(df_train['shopping_ended_at'])  - pd.to_datetime(df_train['shopping_started_at']) \n",
    "\n",
    "#Convert duration to seconds for easier interpretation\n",
    "\n",
    "df_train['shopping_time'] = pd.to_timedelta(df_train[\"shopping_time\"]).astype('timedelta64[s]').astype(int)"
   ]
  },
  {
   "cell_type": "code",
   "execution_count": 138,
   "metadata": {},
   "outputs": [],
   "source": [
    "# df_train.head(5)"
   ]
  },
  {
   "cell_type": "markdown",
   "metadata": {},
   "source": [
    "### Convert categorical variables to numeric "
   ]
  },
  {
   "cell_type": "code",
   "execution_count": 139,
   "metadata": {},
   "outputs": [],
   "source": [
    "# df_train['fulfillment_model'].value_counts()"
   ]
  },
  {
   "cell_type": "code",
   "execution_count": 140,
   "metadata": {
    "collapsed": true
   },
   "outputs": [],
   "source": [
    "df_train['fulfillment_model'] = df_train['fulfillment_model'].map({'model_2':2,'model_1':1})"
   ]
  },
  {
   "cell_type": "code",
   "execution_count": 141,
   "metadata": {},
   "outputs": [],
   "source": [
    "# df_train['fulfillment_model'].value_counts()"
   ]
  },
  {
   "cell_type": "code",
   "execution_count": 142,
   "metadata": {
    "collapsed": true
   },
   "outputs": [],
   "source": [
    "# There a total 14 stores \n",
    "#df_train.store_id.value_counts().reset_index().sort_values(by='index')"
   ]
  },
  {
   "cell_type": "code",
   "execution_count": 143,
   "metadata": {
    "collapsed": true
   },
   "outputs": [],
   "source": [
    "store_ids = {1:1, 3:2, 5:3, 6:4, 29:5, 31:6, 54:7, 78:8, 90:9, 105:10, 115:11, 123:12, 126:13, 148:14}\n",
    "\n",
    "#Convert random store ids variables to sequential store id's\n",
    "df_train['store_id'] = df_train['store_id'].map(store_ids)"
   ]
  },
  {
   "cell_type": "markdown",
   "metadata": {},
   "source": [
    "## Extracting Features from Order details ...\n",
    "1. total_quantity per trip id, \n",
    "2. departmentwise quantity per trip id, \n",
    "3. num distict items per trip id,\n",
    "4. number of distinct departments per trip id"
   ]
  },
  {
   "cell_type": "code",
   "execution_count": 144,
   "metadata": {
    "collapsed": true
   },
   "outputs": [],
   "source": [
    "##1. One trip id is having multiple order from multiple deparments . we can have total quantity as one of the feature\n",
    "\n",
    "total_quantity_trip = order_df.groupby(by=['trip_id'])[\"quantity\"].sum()\n",
    "\n",
    "# to Convert pd.series into data frame and then inner join to get total quantity for a trip\n",
    "total_quantity_trip = total_quantity_trip.to_frame().reset_index()\n",
    "\n",
    "total_quantity_trip.rename(columns={\"quantity\": \"total_quantity\"}, inplace=True)\n",
    "# total_quantity_trip.head()"
   ]
  },
  {
   "cell_type": "code",
   "execution_count": 145,
   "metadata": {
    "collapsed": true
   },
   "outputs": [],
   "source": [
    "##2. Departmentwise quantity per trip id, \n",
    "order_quantity_by_department = order_df.groupby(by=['trip_id','department_name'])[\"quantity\"].sum()\n",
    "order_quantity_by_department = order_quantity_by_department.to_frame().reset_index()\n",
    "\n",
    "\n",
    "orders_pivot = order_quantity_by_department.pivot_table(index='trip_id',columns='department_name',values='quantity')\n",
    "\n",
    "orders_pivot.to_csv('orders_pivot.csv') "
   ]
  },
  {
   "cell_type": "code",
   "execution_count": 146,
   "metadata": {
    "collapsed": true
   },
   "outputs": [],
   "source": [
    "##3. Distinct items per trip id \n",
    "\n",
    "num_distinct_items_trip = order_df.groupby(by=['trip_id'])[\"item_id\"].nunique()\n",
    "\n",
    "# to Convert pd.series into data frame and then inner join to get total quantity for a trip\n",
    "num_distinct_items_trip = num_distinct_items_trip.to_frame().reset_index()\n",
    "\n",
    "num_distinct_items_trip.rename(columns={\"item_id\": \"distinct_items\"}, inplace=True)\n",
    "\n",
    "# num_distinct_items_trip.head()"
   ]
  },
  {
   "cell_type": "code",
   "execution_count": 147,
   "metadata": {
    "collapsed": true
   },
   "outputs": [],
   "source": [
    "##4. Department wise quantiy per trip id \n",
    "\n",
    "num_distinct_department_trip = order_df.groupby(by=['trip_id'])[\"department_name\"].nunique()\n",
    "\n",
    "# to Convert pd.series into data frame and then inner join to get total quantity for a trip\n",
    "num_distinct_department_trip = num_distinct_department_trip.to_frame().reset_index()\n",
    "\n",
    "num_distinct_department_trip.rename(columns={\"department_name\": \"distinct_departments\"}, inplace=True)\n",
    "# num_distinct_department_trip.head()"
   ]
  },
  {
   "cell_type": "code",
   "execution_count": 148,
   "metadata": {
    "collapsed": true
   },
   "outputs": [],
   "source": [
    "df_train = pd.merge(df_train, total_quantity_trip,  on = \"trip_id\",how='inner')\n",
    "df_train = pd.merge(df_train, num_distinct_items_trip,  on = \"trip_id\",how='inner')\n",
    "df_train = pd.merge(df_train, num_distinct_department_trip,  on = \"trip_id\",how='inner')"
   ]
  },
  {
   "cell_type": "code",
   "execution_count": 128,
   "metadata": {},
   "outputs": [],
   "source": [
    "df_test = pd.merge(df_test, total_quantity_trip,  on = \"trip_id\",how='inner')\n",
    "df_test = pd.merge(df_test, num_distinct_items_trip,  on = \"trip_id\",how='inner')\n",
    "df_test = pd.merge(df_test, num_distinct_department_trip,  on = \"trip_id\",how='inner')\n"
   ]
  },
  {
   "cell_type": "code",
   "execution_count": 132,
   "metadata": {},
   "outputs": [
    {
     "data": {
      "text/html": [
       "<div>\n",
       "<style>\n",
       "    .dataframe thead tr:only-child th {\n",
       "        text-align: right;\n",
       "    }\n",
       "\n",
       "    .dataframe thead th {\n",
       "        text-align: left;\n",
       "    }\n",
       "\n",
       "    .dataframe tbody tr th {\n",
       "        vertical-align: top;\n",
       "    }\n",
       "</style>\n",
       "<table border=\"1\" class=\"dataframe\">\n",
       "  <thead>\n",
       "    <tr style=\"text-align: right;\">\n",
       "      <th></th>\n",
       "      <th>trip_id</th>\n",
       "      <th>shopper_id</th>\n",
       "      <th>fulfillment_model</th>\n",
       "      <th>store_id</th>\n",
       "      <th>shopping_started_at</th>\n",
       "      <th>total_quantity</th>\n",
       "      <th>distinct_items</th>\n",
       "      <th>distinct_departments</th>\n",
       "    </tr>\n",
       "  </thead>\n",
       "  <tbody>\n",
       "    <tr>\n",
       "      <th>0</th>\n",
       "      <td>4310899</td>\n",
       "      <td>60930</td>\n",
       "      <td>model_2</td>\n",
       "      <td>123</td>\n",
       "      <td>2015-11-16 07:00:12</td>\n",
       "      <td>28.0</td>\n",
       "      <td>16</td>\n",
       "      <td>9</td>\n",
       "    </tr>\n",
       "    <tr>\n",
       "      <th>1</th>\n",
       "      <td>4310904</td>\n",
       "      <td>59815</td>\n",
       "      <td>model_2</td>\n",
       "      <td>123</td>\n",
       "      <td>2015-11-16 07:00:12</td>\n",
       "      <td>48.0</td>\n",
       "      <td>39</td>\n",
       "      <td>15</td>\n",
       "    </tr>\n",
       "    <tr>\n",
       "      <th>2</th>\n",
       "      <td>4310907</td>\n",
       "      <td>60878</td>\n",
       "      <td>model_2</td>\n",
       "      <td>123</td>\n",
       "      <td>2015-11-16 07:00:13</td>\n",
       "      <td>21.0</td>\n",
       "      <td>18</td>\n",
       "      <td>8</td>\n",
       "    </tr>\n",
       "    <tr>\n",
       "      <th>3</th>\n",
       "      <td>4310911</td>\n",
       "      <td>60879</td>\n",
       "      <td>model_2</td>\n",
       "      <td>123</td>\n",
       "      <td>2015-11-16 07:00:13</td>\n",
       "      <td>8.0</td>\n",
       "      <td>4</td>\n",
       "      <td>4</td>\n",
       "    </tr>\n",
       "    <tr>\n",
       "      <th>4</th>\n",
       "      <td>4310328</td>\n",
       "      <td>66726</td>\n",
       "      <td>model_1</td>\n",
       "      <td>1</td>\n",
       "      <td>2015-11-16 07:01:08</td>\n",
       "      <td>14.0</td>\n",
       "      <td>14</td>\n",
       "      <td>8</td>\n",
       "    </tr>\n",
       "  </tbody>\n",
       "</table>\n",
       "</div>"
      ],
      "text/plain": [
       "   trip_id  shopper_id fulfillment_model  store_id  shopping_started_at  \\\n",
       "0  4310899       60930           model_2       123  2015-11-16 07:00:12   \n",
       "1  4310904       59815           model_2       123  2015-11-16 07:00:12   \n",
       "2  4310907       60878           model_2       123  2015-11-16 07:00:13   \n",
       "3  4310911       60879           model_2       123  2015-11-16 07:00:13   \n",
       "4  4310328       66726           model_1         1  2015-11-16 07:01:08   \n",
       "\n",
       "   total_quantity  distinct_items  distinct_departments  \n",
       "0            28.0              16                     9  \n",
       "1            48.0              39                    15  \n",
       "2            21.0              18                     8  \n",
       "3             8.0               4                     4  \n",
       "4            14.0              14                     8  "
      ]
     },
     "execution_count": 132,
     "metadata": {},
     "output_type": "execute_result"
    }
   ],
   "source": [
    "df_test.head(5)"
   ]
  },
  {
   "cell_type": "code",
   "execution_count": 149,
   "metadata": {},
   "outputs": [
    {
     "data": {
      "text/plain": [
       "(117063, 10)"
      ]
     },
     "execution_count": 149,
     "metadata": {},
     "output_type": "execute_result"
    }
   ],
   "source": [
    "df_train.shape"
   ]
  },
  {
   "cell_type": "code",
   "execution_count": 111,
   "metadata": {},
   "outputs": [
    {
     "data": {
      "text/plain": [
       "Index(['trip_id', 'shopper_id', 'fulfillment_model', 'store_id',\n",
       "       'shopping_started_at', 'total_quantity'],\n",
       "      dtype='object')"
      ]
     },
     "execution_count": 111,
     "metadata": {},
     "output_type": "execute_result"
    }
   ],
   "source": [
    "df_train_test.columns"
   ]
  },
  {
   "cell_type": "code",
   "execution_count": 16,
   "metadata": {
    "collapsed": true
   },
   "outputs": [],
   "source": [
    "orders = pd.read_csv('orders_pivot.csv')\n",
    "orders = orders.fillna(0)\n",
    "\n",
    "\n",
    "\n",
    "\n",
    "df_train = pd.merge(df_train, orders,  on = \"trip_id\",how='inner')\n",
    "\n",
    "# df_train.head(5)"
   ]
  },
  {
   "cell_type": "code",
   "execution_count": 150,
   "metadata": {
    "collapsed": true
   },
   "outputs": [],
   "source": [
    "#Now construct other variables, like month, date, etc.\n",
    "\n",
    "df_train[\"start_month\"] = df_train[\"shopping_started_at\"].dt.month\n",
    "df_train[\"start_day\"] = df_train[\"shopping_started_at\"].dt.day\n",
    "df_train[\"start_weekday\"] = df_train[\"shopping_started_at\"].dt.weekday \n",
    "df_train[\"start_hour\"] = df_train[\"shopping_started_at\"].dt.hour\n",
    "df_train[\"start_minute\"] = df_train[\"shopping_started_at\"].dt.minute"
   ]
  },
  {
   "cell_type": "code",
   "execution_count": 151,
   "metadata": {},
   "outputs": [
    {
     "data": {
      "text/html": [
       "<div>\n",
       "<style>\n",
       "    .dataframe thead tr:only-child th {\n",
       "        text-align: right;\n",
       "    }\n",
       "\n",
       "    .dataframe thead th {\n",
       "        text-align: left;\n",
       "    }\n",
       "\n",
       "    .dataframe tbody tr th {\n",
       "        vertical-align: top;\n",
       "    }\n",
       "</style>\n",
       "<table border=\"1\" class=\"dataframe\">\n",
       "  <thead>\n",
       "    <tr style=\"text-align: right;\">\n",
       "      <th></th>\n",
       "      <th>trip_id</th>\n",
       "      <th>shopper_id</th>\n",
       "      <th>fulfillment_model</th>\n",
       "      <th>store_id</th>\n",
       "      <th>shopping_started_at</th>\n",
       "      <th>shopping_ended_at</th>\n",
       "      <th>shopping_time</th>\n",
       "      <th>total_quantity</th>\n",
       "      <th>distinct_items</th>\n",
       "      <th>distinct_departments</th>\n",
       "      <th>start_month</th>\n",
       "      <th>start_day</th>\n",
       "      <th>start_weekday</th>\n",
       "      <th>start_hour</th>\n",
       "      <th>start_minute</th>\n",
       "    </tr>\n",
       "  </thead>\n",
       "  <tbody>\n",
       "    <tr>\n",
       "      <th>0</th>\n",
       "      <td>3119519</td>\n",
       "      <td>48539</td>\n",
       "      <td>1</td>\n",
       "      <td>4</td>\n",
       "      <td>2015-09-01 07:03:56</td>\n",
       "      <td>2015-09-01 07:30:56</td>\n",
       "      <td>1620</td>\n",
       "      <td>39.0</td>\n",
       "      <td>26</td>\n",
       "      <td>11</td>\n",
       "      <td>9</td>\n",
       "      <td>1</td>\n",
       "      <td>1</td>\n",
       "      <td>7</td>\n",
       "      <td>3</td>\n",
       "    </tr>\n",
       "  </tbody>\n",
       "</table>\n",
       "</div>"
      ],
      "text/plain": [
       "   trip_id  shopper_id  fulfillment_model  store_id shopping_started_at  \\\n",
       "0  3119519       48539                  1         4 2015-09-01 07:03:56   \n",
       "\n",
       "    shopping_ended_at  shopping_time  total_quantity  distinct_items  \\\n",
       "0 2015-09-01 07:30:56           1620            39.0              26   \n",
       "\n",
       "   distinct_departments  start_month  start_day  start_weekday  start_hour  \\\n",
       "0                    11            9          1              1           7   \n",
       "\n",
       "   start_minute  \n",
       "0             3  "
      ]
     },
     "execution_count": 151,
     "metadata": {},
     "output_type": "execute_result"
    }
   ],
   "source": [
    "df1 = df_train[df_train['trip_id'] == 3119519]\n",
    "df1"
   ]
  },
  {
   "cell_type": "code",
   "execution_count": 152,
   "metadata": {},
   "outputs": [
    {
     "data": {
      "text/plain": [
       "(117063, 15)"
      ]
     },
     "execution_count": 152,
     "metadata": {},
     "output_type": "execute_result"
    }
   ],
   "source": [
    "df_train.shape"
   ]
  },
  {
   "cell_type": "markdown",
   "metadata": {},
   "source": [
    "# 2. EDA "
   ]
  },
  {
   "cell_type": "markdown",
   "metadata": {},
   "source": [
    "### Distribution of Shipping Time and measure of skewness/Kurtosis"
   ]
  },
  {
   "cell_type": "code",
   "execution_count": 153,
   "metadata": {},
   "outputs": [
    {
     "name": "stdout",
     "output_type": "stream",
     "text": [
      "120 10740\n",
      "No cases with shopping time more than 6000 secs: 2962\n",
      "% cases with shopping time more than 6000 secs : 2.530261483133014\n",
      "(117063, 15)\n",
      "(114101, 15)\n"
     ]
    },
    {
     "data": {
      "image/png": "[encoded data removed]",
      "text/plain": [
       "<matplotlib.figure.Figure at 0x1a211e30f0>"
      ]
     },
     "metadata": {},
     "output_type": "display_data"
    }
   ],
   "source": [
    "# Getting the variables ready for modelling - Initiall Data Analysis (IDA)\n",
    "import matplotlib.pyplot as plt\n",
    "plt.show()\n",
    "# Looking closely at Dependent Variable - shopping_time\n",
    "\n",
    "print (df_train['shopping_time'].min(),df_train['shopping_time'].max())\n",
    "\n",
    "# Consideration 1 - We see that there are some cases with delivery time > 6000 looking at these oultiers below \n",
    "df_train.boxplot(column = 'shopping_time')\n",
    "\n",
    "\n",
    "print (\"No cases with shopping time more than 6000 secs: {}\".format(len(df_train[df_train['shopping_time']>6000])))\n",
    "\n",
    "print (\"% cases with shopping time more than 6000 secs : {}\".format((len(df_train[df_train['shopping_time']>6000])/len(df_train))*100))\n",
    "\n",
    "print(df_train.shape)\n",
    "\n",
    "# Removing these cases from the dataset as its fair to assume that these are data log issues as a delivery time cannot be greater\n",
    "# than 8000 secs.\n",
    "\n",
    "df_train = df_train[df_train['shopping_time']<=6000]\n",
    "\n",
    "print(df_train.shape)"
   ]
  },
  {
   "cell_type": "code",
   "execution_count": 154,
   "metadata": {},
   "outputs": [
    {
     "data": {
      "text/plain": [
       "count    114101.000000\n",
       "mean       2333.170787\n",
       "std        1208.980500\n",
       "min         120.000000\n",
       "25%        1440.000000\n",
       "50%        2100.000000\n",
       "75%        3060.000000\n",
       "max        6000.000000\n",
       "Name: shopping_time, dtype: float64"
      ]
     },
     "execution_count": 154,
     "metadata": {},
     "output_type": "execute_result"
    }
   ],
   "source": [
    "df_train['shopping_time'].describe()"
   ]
  },
  {
   "cell_type": "code",
   "execution_count": 155,
   "metadata": {},
   "outputs": [
    {
     "data": {
      "image/png": "[encoded data removed]",
      "text/plain": [
       "<matplotlib.figure.Figure at 0x10b01c588>"
      ]
     },
     "metadata": {},
     "output_type": "display_data"
    }
   ],
   "source": [
    "#histogram\n",
    "sns.distplot(df_train['shopping_time']);"
   ]
  },
  {
   "cell_type": "code",
   "execution_count": 156,
   "metadata": {},
   "outputs": [
    {
     "name": "stdout",
     "output_type": "stream",
     "text": [
      "Skewness: 0.733177\n",
      "Kurtosis: 0.024150\n"
     ]
    }
   ],
   "source": [
    "#skewness and kurtosis\n",
    "print(\"Skewness: %f\" % df_train['shopping_time'].skew())\n",
    "print(\"Kurtosis: %f\" % df_train['shopping_time'].kurt())"
   ]
  },
  {
   "cell_type": "markdown",
   "metadata": {},
   "source": [
    "####  data sets with high kurtosis tend to have heavy tails, or outliers and the skewness for a normal distribution is zero, and any symmetric data should have a skewness near zero. The data is moderately skewed"
   ]
  },
  {
   "cell_type": "code",
   "execution_count": 157,
   "metadata": {},
   "outputs": [
    {
     "data": {
      "image/png": "[encoded data removed]",
      "text/plain": [
       "<matplotlib.figure.Figure at 0x1a392b2a20>"
      ]
     },
     "metadata": {},
     "output_type": "display_data"
    },
    {
     "data": {
      "image/png": "[encoded data removed]",
      "text/plain": [
       "<matplotlib.figure.Figure at 0x1a392b2b70>"
      ]
     },
     "metadata": {},
     "output_type": "display_data"
    }
   ],
   "source": [
    "#histogram and normal probability plot\n",
    "sns.distplot(df_train['shopping_time'], fit=norm);\n",
    "fig = plt.figure()\n",
    "res = stats.probplot(df_train['shopping_time'], plot=plt)"
   ]
  },
  {
   "cell_type": "code",
   "execution_count": 158,
   "metadata": {},
   "outputs": [
    {
     "data": {
      "image/png": "[encoded data removed]",
      "text/plain": [
       "<matplotlib.figure.Figure at 0x1a2cab9780>"
      ]
     },
     "metadata": {},
     "output_type": "display_data"
    }
   ],
   "source": [
    "fig, ax = plt.subplots(figsize=(4, 6))\n",
    "fig = probscale.probplot(df_train['shopping_time'], ax=ax, plottype='prob', probax='y', bestfit=True,\n",
    "                         datascale='log', problabel='Probabilities', datalabel='shopping_time (Secs)',\n",
    "                         scatter_kws=dict(label='Shopping Time'),\n",
    "                         line_kws=dict(label='Best-fit line'))\n",
    "ax.legend(loc='upper left')\n",
    "ax.set_ylim(bottom=0.1, top=99.9)\n",
    "ax.set_xlim(left=1, right=8000)\n",
    "sns.despine()"
   ]
  },
  {
   "cell_type": "code",
   "execution_count": 159,
   "metadata": {},
   "outputs": [
    {
     "data": {
      "image/png": "[encoded data removed]",
      "text/plain": [
       "<matplotlib.figure.Figure at 0x1a2d2140b8>"
      ]
     },
     "metadata": {},
     "output_type": "display_data"
    }
   ],
   "source": [
    "#scatter plot quantity/shippingtime\n",
    "var = 'total_quantity'\n",
    "data = pd.concat([df_train['shopping_time'], df_train[var]], axis=1)\n",
    "data.plot.scatter(x=var, y='shopping_time', ylim=(0,10000));"
   ]
  },
  {
   "cell_type": "markdown",
   "metadata": {},
   "source": [
    "### Relationship with categorical features"
   ]
  },
  {
   "cell_type": "code",
   "execution_count": 160,
   "metadata": {},
   "outputs": [
    {
     "data": {
      "image/png": "[encoded data removed]",
      "text/plain": [
       "<matplotlib.figure.Figure at 0x1a2d4c5b00>"
      ]
     },
     "metadata": {},
     "output_type": "display_data"
    }
   ],
   "source": [
    "#box plot model/shipping time\n",
    "var = 'fulfillment_model'\n",
    "data = pd.concat([df_train['shopping_time'], df_train[var]], axis=1)\n",
    "f, ax = plt.subplots(figsize=(4, 3))\n",
    "fig = sns.boxplot(x=var, y=\"shopping_time\", data=data)\n",
    "fig.axis(ymin=0, ymax=10000);"
   ]
  },
  {
   "cell_type": "code",
   "execution_count": 161,
   "metadata": {},
   "outputs": [
    {
     "data": {
      "image/png": "[encoded data removed]",
      "text/plain": [
       "<matplotlib.figure.Figure at 0x1a307d4eb8>"
      ]
     },
     "metadata": {},
     "output_type": "display_data"
    }
   ],
   "source": [
    "var = 'store_id'\n",
    "data = pd.concat([df_train['shopping_time'], df_train[var]], axis=1)\n",
    "f, ax = plt.subplots(figsize=(8, 4))\n",
    "fig = sns.boxplot(x=var, y=\"shopping_time\", data=data)\n",
    "fig.axis(ymin=0, ymax=10000);\n",
    "plt.xticks(rotation=90);"
   ]
  },
  {
   "cell_type": "markdown",
   "metadata": {},
   "source": [
    "###### store_ids = {1:1, 3:2, 5:3, 6:4, 29:5, 31:6, 54:7, 78:8, 90:9, 105:10, 115:11, 123:12, 126:13, 148:14}\n"
   ]
  },
  {
   "cell_type": "code",
   "execution_count": 162,
   "metadata": {},
   "outputs": [
    {
     "data": {
      "image/png": "[encoded data removed]",
      "text/plain": [
       "<matplotlib.figure.Figure at 0x1a2ca37be0>"
      ]
     },
     "metadata": {},
     "output_type": "display_data"
    }
   ],
   "source": [
    "# Removing id's and timestamp (converted it to day/hour/min)\n",
    "df_train_corr = df_train.drop([\"trip_id\", \"shopper_id\", \"shopping_started_at\", \"shopping_ended_at\"], axis=1)\n",
    "\n",
    "\n",
    "#correlation matrix\n",
    "\n",
    "corrmat = df_train_corr.corr()\n",
    "f, ax = plt.subplots(figsize=(12, 9))\n",
    "k = 20 #number of variables for heatmap\n",
    "cols = corrmat.nlargest(k, 'shopping_time')['shopping_time'].index\n",
    "cm = np.corrcoef(df_train[cols].values.T)\n",
    "sns.set(font_scale=1.50)\n",
    "hm = sns.heatmap(cm, cbar=True, annot=True, square=True, fmt='.2f', annot_kws={'size': 10}, yticklabels=cols.values, xticklabels=cols.values)\n",
    "plt.show()"
   ]
  },
  {
   "cell_type": "markdown",
   "metadata": {},
   "source": [
    "#### Missing Values"
   ]
  },
  {
   "cell_type": "code",
   "execution_count": 163,
   "metadata": {},
   "outputs": [],
   "source": [
    "# missing data in the training \n",
    "total = df_train.isnull().sum().sort_values(ascending=False)\n",
    "percent = (df_train.isnull().sum()/df_train.isnull().count()).sort_values(ascending=False)\n",
    "missing_data = pd.concat([total, percent], axis=1, keys=['Total', 'Percent'])\n",
    "# missing_data.head(20)"
   ]
  },
  {
   "cell_type": "code",
   "execution_count": 164,
   "metadata": {},
   "outputs": [
    {
     "data": {
      "image/png": "[encoded data removed]",
      "text/plain": [
       "<matplotlib.figure.Figure at 0x1a2e252eb8>"
      ]
     },
     "metadata": {},
     "output_type": "display_data"
    },
    {
     "data": {
      "image/png": "[encoded data removed]",
      "text/plain": [
       "<matplotlib.figure.Figure at 0x1a2e252e48>"
      ]
     },
     "metadata": {},
     "output_type": "display_data"
    }
   ],
   "source": [
    "#histogram and normal probability plot\n",
    "sns.distplot(df_train['total_quantity'], fit=norm);\n",
    "fig = plt.figure()\n",
    "res = stats.probplot(df_train['total_quantity'], plot=plt)"
   ]
  },
  {
   "cell_type": "code",
   "execution_count": 165,
   "metadata": {},
   "outputs": [
    {
     "data": {
      "image/png": "[encoded data removed]",
      "text/plain": [
       "<matplotlib.figure.Figure at 0x1a392d21d0>"
      ]
     },
     "metadata": {},
     "output_type": "display_data"
    }
   ],
   "source": [
    "fig, ax = plt.subplots(figsize=(4, 6))\n",
    "fig = probscale.probplot(df_train['total_quantity'] , ax=ax, plottype='prob', probax='y', bestfit=True,\n",
    "                         datascale='log', problabel='Probabilities', datalabel='total_quantity (#)',\n",
    "                         scatter_kws=dict(label='total_quantity'),\n",
    "                         line_kws=dict(label='Best-fit line'))\n",
    "ax.legend(loc='upper left')\n",
    "ax.set_ylim(bottom=0.1, top=99.9)\n",
    "ax.set_xlim(left=1, right=8000)\n",
    "sns.despine()"
   ]
  },
  {
   "cell_type": "markdown",
   "metadata": {},
   "source": [
    "# 2. Modeling "
   ]
  },
  {
   "cell_type": "code",
   "execution_count": 166,
   "metadata": {
    "collapsed": true
   },
   "outputs": [],
   "source": [
    "X = np.log1p(df_train.drop([\"shopping_time\",\"trip_id\", \"shopper_id\", \"shopping_started_at\", \"shopping_ended_at\"], axis=1))\n",
    "y = np.log1p(df_train[\"shopping_time\"])\n",
    "\n",
    "# X.head(5)"
   ]
  },
  {
   "cell_type": "code",
   "execution_count": 167,
   "metadata": {},
   "outputs": [],
   "source": [
    "#  Data Preperocessing before modelling\n",
    "\n",
    "from sklearn.model_selection import train_test_split\n",
    "from sklearn import preprocessing\n"
   ]
  },
  {
   "cell_type": "code",
   "execution_count": 168,
   "metadata": {},
   "outputs": [],
   "source": [
    "# Scaling the X variables for train set\n",
    "sc = preprocessing.StandardScaler().fit(X_train) #sc.mean_, sc.scale_\n",
    "X_train = sc.transform(X_train)"
   ]
  },
  {
   "cell_type": "code",
   "execution_count": 169,
   "metadata": {
    "collapsed": true
   },
   "outputs": [],
   "source": [
    "\n",
    "# df_train.shape\n",
    "from sklearn.model_selection import train_test_split\n",
    "#Split the data into training, test, and valdiation sets\n",
    "X_train, X_test, y_train, y_test = train_test_split(X, y, test_size=0.3, random_state=2018)\n",
    "X_train, X_val, y_train, y_val = train_test_split(X_train, y_train, test_size=0.25, random_state=2019)"
   ]
  },
  {
   "cell_type": "code",
   "execution_count": 170,
   "metadata": {},
   "outputs": [
    {
     "name": "stdout",
     "output_type": "stream",
     "text": [
      "Mean squared error: 0.22\n",
      "Variance score: 0.33\n"
     ]
    }
   ],
   "source": [
    "from sklearn import  linear_model\n",
    "from sklearn.metrics import mean_squared_error, r2_score\n",
    "\n",
    "# Create linear regression object\n",
    "regr = linear_model.LinearRegression()\n",
    "\n",
    "# Train the model using the training sets\n",
    "regr.fit(X_train, y_train)\n",
    "\n",
    "# Make predictions using the testing set\n",
    "Y_pred = regr.predict(X_test)\n",
    "\n",
    "mean_squared_error(y_true=y_test, y_pred=Y_pred)\n",
    "\n",
    "# The mean squared error\n",
    "print(\"Mean squared error: %.2f\"\n",
    "      % mean_squared_error(y_test, Y_pred))\n",
    "# Explained variance score: 1 is perfect prediction\n",
    "print('Variance score: %.2f' % r2_score(y_test, Y_pred))"
   ]
  },
  {
   "cell_type": "code",
   "execution_count": 171,
   "metadata": {},
   "outputs": [
    {
     "name": "stdout",
     "output_type": "stream",
     "text": [
      "Lasso score on training set:  0.46843626997408694\n",
      "Lasso Variance score: 0.33\n"
     ]
    }
   ],
   "source": [
    "from sklearn.linear_model import Lasso\n",
    "\n",
    "best_alpha = 0.00099\n",
    "\n",
    "regr = Lasso(alpha=best_alpha, max_iter=50000)\n",
    "regr.fit(X_train, y_train)\n",
    "\n",
    "# Run prediction on training set to get a rough idea of how well it does.\n",
    "y_pred_lasso = regr.predict(X_test)\n",
    "\n",
    "print(\"Lasso score on training set: \", rmse(y_test, y_pred_lasso))\n",
    "\n",
    "# Run prediction on the test set.\n",
    "y_pred_lasso = regr.predict(X_test)\n",
    "print('Lasso Variance score: %.2f' % r2_score(y_test, y_pred_lasso))"
   ]
  },
  {
   "cell_type": "code",
   "execution_count": 172,
   "metadata": {},
   "outputs": [
    {
     "data": {
      "text/plain": [
       "0.32804753816232346"
      ]
     },
     "execution_count": 172,
     "metadata": {},
     "output_type": "execute_result"
    }
   ],
   "source": [
    "from sklearn.metrics import explained_variance_score\n",
    "explained_variance_score(y_test,Y_pred)"
   ]
  },
  {
   "cell_type": "code",
   "execution_count": 173,
   "metadata": {
    "collapsed": true
   },
   "outputs": [],
   "source": [
    "# The error metric: RMSE on the log of the shopping time\n",
    "from sklearn.metrics import mean_squared_error\n",
    "def rmse(y_true, y_pred):\n",
    "    return np.sqrt(mean_squared_error(y_true, y_pred))"
   ]
  },
  {
   "cell_type": "code",
   "execution_count": null,
   "metadata": {},
   "outputs": [],
   "source": [
    "import xgboost as xgb\n",
    "regr = xgb.XGBRegressor(\n",
    "                 colsample_bytree=0.2,\n",
    "                 gamma=0.0,\n",
    "                 learning_rate=0.01,\n",
    "                 max_depth=4,\n",
    "                 min_child_weight=1.5,\n",
    "                 n_estimators=7200,                                                                  \n",
    "                 reg_alpha=0.9,\n",
    "                 reg_lambda=0.6,\n",
    "                 subsample=0.2,\n",
    "                 seed=42,\n",
    "                 silent=1)\n",
    "regr.fit(X_train, y_train)\n",
    "\n",
    "# Run prediction on training set to get a rough idea of how well it does.\n",
    "Y_pred = regr.predict(X_test)\n",
    "print(\"XGBoost score on training set: \", rmse(y_test, Y_pred))"
   ]
  },
  {
   "cell_type": "code",
   "execution_count": 65,
   "metadata": {},
   "outputs": [
    {
     "data": {
      "text/html": [
       "<div>\n",
       "<style>\n",
       "    .dataframe thead tr:only-child th {\n",
       "        text-align: right;\n",
       "    }\n",
       "\n",
       "    .dataframe thead th {\n",
       "        text-align: left;\n",
       "    }\n",
       "\n",
       "    .dataframe tbody tr th {\n",
       "        vertical-align: top;\n",
       "    }\n",
       "</style>\n",
       "<table border=\"1\" class=\"dataframe\">\n",
       "  <thead>\n",
       "    <tr style=\"text-align: right;\">\n",
       "      <th></th>\n",
       "      <th>fulfillment_model</th>\n",
       "      <th>store_id</th>\n",
       "      <th>total_quantity</th>\n",
       "      <th>distinct_items</th>\n",
       "      <th>distinct_departments</th>\n",
       "      <th>25% OFF Supplements 8/14-8/16</th>\n",
       "      <th>4th of July</th>\n",
       "      <th>Academy Awards</th>\n",
       "      <th>Alcohol</th>\n",
       "      <th>All It Takes to Bake!</th>\n",
       "      <th>...</th>\n",
       "      <th>Thanksgiving Menu</th>\n",
       "      <th>Travel</th>\n",
       "      <th>Valentine's Day Specials</th>\n",
       "      <th>Valentine's- Made with Love!</th>\n",
       "      <th>Vitamins &amp; Supplements</th>\n",
       "      <th>start_month</th>\n",
       "      <th>start_day</th>\n",
       "      <th>start_weekday</th>\n",
       "      <th>start_hour</th>\n",
       "      <th>start_minute</th>\n",
       "    </tr>\n",
       "  </thead>\n",
       "  <tbody>\n",
       "    <tr>\n",
       "      <th>111458</th>\n",
       "      <td>1.098612</td>\n",
       "      <td>1.098612</td>\n",
       "      <td>3.828641</td>\n",
       "      <td>3.295837</td>\n",
       "      <td>2.302585</td>\n",
       "      <td>0.0</td>\n",
       "      <td>0.0</td>\n",
       "      <td>0.0</td>\n",
       "      <td>0.000000</td>\n",
       "      <td>0.0</td>\n",
       "      <td>...</td>\n",
       "      <td>0.0</td>\n",
       "      <td>0.0</td>\n",
       "      <td>0.0</td>\n",
       "      <td>0.0</td>\n",
       "      <td>0.0</td>\n",
       "      <td>2.484907</td>\n",
       "      <td>2.564949</td>\n",
       "      <td>1.386294</td>\n",
       "      <td>2.890372</td>\n",
       "      <td>1.945910</td>\n",
       "    </tr>\n",
       "    <tr>\n",
       "      <th>110271</th>\n",
       "      <td>1.098612</td>\n",
       "      <td>0.693147</td>\n",
       "      <td>2.302585</td>\n",
       "      <td>2.079442</td>\n",
       "      <td>1.386294</td>\n",
       "      <td>0.0</td>\n",
       "      <td>0.0</td>\n",
       "      <td>0.0</td>\n",
       "      <td>0.000000</td>\n",
       "      <td>0.0</td>\n",
       "      <td>...</td>\n",
       "      <td>0.0</td>\n",
       "      <td>0.0</td>\n",
       "      <td>0.0</td>\n",
       "      <td>0.0</td>\n",
       "      <td>0.0</td>\n",
       "      <td>2.484907</td>\n",
       "      <td>2.484907</td>\n",
       "      <td>1.098612</td>\n",
       "      <td>2.995732</td>\n",
       "      <td>3.332205</td>\n",
       "    </tr>\n",
       "    <tr>\n",
       "      <th>985</th>\n",
       "      <td>1.098612</td>\n",
       "      <td>0.693147</td>\n",
       "      <td>3.401197</td>\n",
       "      <td>2.772589</td>\n",
       "      <td>1.791759</td>\n",
       "      <td>0.0</td>\n",
       "      <td>0.0</td>\n",
       "      <td>0.0</td>\n",
       "      <td>0.000000</td>\n",
       "      <td>0.0</td>\n",
       "      <td>...</td>\n",
       "      <td>0.0</td>\n",
       "      <td>0.0</td>\n",
       "      <td>0.0</td>\n",
       "      <td>0.0</td>\n",
       "      <td>0.0</td>\n",
       "      <td>2.302585</td>\n",
       "      <td>0.693147</td>\n",
       "      <td>0.693147</td>\n",
       "      <td>2.833213</td>\n",
       "      <td>1.098612</td>\n",
       "    </tr>\n",
       "    <tr>\n",
       "      <th>106052</th>\n",
       "      <td>0.693147</td>\n",
       "      <td>1.609438</td>\n",
       "      <td>3.218876</td>\n",
       "      <td>2.564949</td>\n",
       "      <td>2.197225</td>\n",
       "      <td>0.0</td>\n",
       "      <td>0.0</td>\n",
       "      <td>0.0</td>\n",
       "      <td>0.000000</td>\n",
       "      <td>0.0</td>\n",
       "      <td>...</td>\n",
       "      <td>0.0</td>\n",
       "      <td>0.0</td>\n",
       "      <td>0.0</td>\n",
       "      <td>0.0</td>\n",
       "      <td>0.0</td>\n",
       "      <td>2.484907</td>\n",
       "      <td>2.302585</td>\n",
       "      <td>0.000000</td>\n",
       "      <td>2.708050</td>\n",
       "      <td>3.988984</td>\n",
       "    </tr>\n",
       "    <tr>\n",
       "      <th>66747</th>\n",
       "      <td>1.098612</td>\n",
       "      <td>1.098612</td>\n",
       "      <td>4.276666</td>\n",
       "      <td>3.688879</td>\n",
       "      <td>2.772589</td>\n",
       "      <td>0.0</td>\n",
       "      <td>0.0</td>\n",
       "      <td>0.0</td>\n",
       "      <td>1.386294</td>\n",
       "      <td>0.0</td>\n",
       "      <td>...</td>\n",
       "      <td>0.0</td>\n",
       "      <td>0.0</td>\n",
       "      <td>0.0</td>\n",
       "      <td>0.0</td>\n",
       "      <td>0.0</td>\n",
       "      <td>2.397895</td>\n",
       "      <td>2.772589</td>\n",
       "      <td>1.386294</td>\n",
       "      <td>2.564949</td>\n",
       "      <td>3.784190</td>\n",
       "    </tr>\n",
       "  </tbody>\n",
       "</table>\n",
       "<p>5 rows × 96 columns</p>\n",
       "</div>"
      ],
      "text/plain": [
       "        fulfillment_model  store_id  total_quantity  distinct_items  \\\n",
       "111458           1.098612  1.098612        3.828641        3.295837   \n",
       "110271           1.098612  0.693147        2.302585        2.079442   \n",
       "985              1.098612  0.693147        3.401197        2.772589   \n",
       "106052           0.693147  1.609438        3.218876        2.564949   \n",
       "66747            1.098612  1.098612        4.276666        3.688879   \n",
       "\n",
       "        distinct_departments  25% OFF Supplements 8/14-8/16  4th of July  \\\n",
       "111458              2.302585                            0.0          0.0   \n",
       "110271              1.386294                            0.0          0.0   \n",
       "985                 1.791759                            0.0          0.0   \n",
       "106052              2.197225                            0.0          0.0   \n",
       "66747               2.772589                            0.0          0.0   \n",
       "\n",
       "        Academy Awards   Alcohol  All It Takes to Bake!      ...       \\\n",
       "111458             0.0  0.000000                    0.0      ...        \n",
       "110271             0.0  0.000000                    0.0      ...        \n",
       "985                0.0  0.000000                    0.0      ...        \n",
       "106052             0.0  0.000000                    0.0      ...        \n",
       "66747              0.0  1.386294                    0.0      ...        \n",
       "\n",
       "        Thanksgiving Menu  Travel  Valentine's Day Specials  \\\n",
       "111458                0.0     0.0                       0.0   \n",
       "110271                0.0     0.0                       0.0   \n",
       "985                   0.0     0.0                       0.0   \n",
       "106052                0.0     0.0                       0.0   \n",
       "66747                 0.0     0.0                       0.0   \n",
       "\n",
       "        Valentine's- Made with Love!  Vitamins & Supplements  start_month  \\\n",
       "111458                           0.0                     0.0     2.484907   \n",
       "110271                           0.0                     0.0     2.484907   \n",
       "985                              0.0                     0.0     2.302585   \n",
       "106052                           0.0                     0.0     2.484907   \n",
       "66747                            0.0                     0.0     2.397895   \n",
       "\n",
       "        start_day  start_weekday  start_hour  start_minute  \n",
       "111458   2.564949       1.386294    2.890372      1.945910  \n",
       "110271   2.484907       1.098612    2.995732      3.332205  \n",
       "985      0.693147       0.693147    2.833213      1.098612  \n",
       "106052   2.302585       0.000000    2.708050      3.988984  \n",
       "66747    2.772589       1.386294    2.564949      3.784190  \n",
       "\n",
       "[5 rows x 96 columns]"
      ]
     },
     "execution_count": 65,
     "metadata": {},
     "output_type": "execute_result"
    }
   ],
   "source": [
    "X_train.head(5)"
   ]
  },
  {
   "cell_type": "code",
   "execution_count": 50,
   "metadata": {},
   "outputs": [
    {
     "name": "stdout",
     "output_type": "stream",
     "text": [
      "XGBoost Variance score: 0.41\n"
     ]
    }
   ],
   "source": [
    "# Run prediction on the test set.\n",
    "y_pred_xgb = regr.predict(X_test)\n",
    "\n",
    "print('XGBoost Variance score: %.2f' % r2_score(y_test, y_pred_xgb))"
   ]
  },
  {
   "cell_type": "code",
   "execution_count": 51,
   "metadata": {},
   "outputs": [
    {
     "data": {
      "text/html": [
       "<div>\n",
       "<style>\n",
       "    .dataframe thead tr:only-child th {\n",
       "        text-align: right;\n",
       "    }\n",
       "\n",
       "    .dataframe thead th {\n",
       "        text-align: left;\n",
       "    }\n",
       "\n",
       "    .dataframe tbody tr th {\n",
       "        vertical-align: top;\n",
       "    }\n",
       "</style>\n",
       "<table border=\"1\" class=\"dataframe\">\n",
       "  <thead>\n",
       "    <tr style=\"text-align: right;\">\n",
       "      <th></th>\n",
       "      <th>trip_id</th>\n",
       "      <th>shopper_id</th>\n",
       "      <th>fulfillment_model</th>\n",
       "      <th>store_id</th>\n",
       "      <th>shopping_started_at</th>\n",
       "    </tr>\n",
       "  </thead>\n",
       "  <tbody>\n",
       "    <tr>\n",
       "      <th>0</th>\n",
       "      <td>4310899</td>\n",
       "      <td>60930</td>\n",
       "      <td>model_2</td>\n",
       "      <td>123</td>\n",
       "      <td>2015-11-16 07:00:12</td>\n",
       "    </tr>\n",
       "    <tr>\n",
       "      <th>1</th>\n",
       "      <td>4310904</td>\n",
       "      <td>59815</td>\n",
       "      <td>model_2</td>\n",
       "      <td>123</td>\n",
       "      <td>2015-11-16 07:00:12</td>\n",
       "    </tr>\n",
       "    <tr>\n",
       "      <th>2</th>\n",
       "      <td>4310907</td>\n",
       "      <td>60878</td>\n",
       "      <td>model_2</td>\n",
       "      <td>123</td>\n",
       "      <td>2015-11-16 07:00:13</td>\n",
       "    </tr>\n",
       "    <tr>\n",
       "      <th>3</th>\n",
       "      <td>4310911</td>\n",
       "      <td>60879</td>\n",
       "      <td>model_2</td>\n",
       "      <td>123</td>\n",
       "      <td>2015-11-16 07:00:13</td>\n",
       "    </tr>\n",
       "    <tr>\n",
       "      <th>4</th>\n",
       "      <td>4310328</td>\n",
       "      <td>66726</td>\n",
       "      <td>model_1</td>\n",
       "      <td>1</td>\n",
       "      <td>2015-11-16 07:01:08</td>\n",
       "    </tr>\n",
       "  </tbody>\n",
       "</table>\n",
       "</div>"
      ],
      "text/plain": [
       "   trip_id  shopper_id fulfillment_model  store_id  shopping_started_at\n",
       "0  4310899       60930           model_2       123  2015-11-16 07:00:12\n",
       "1  4310904       59815           model_2       123  2015-11-16 07:00:12\n",
       "2  4310907       60878           model_2       123  2015-11-16 07:00:13\n",
       "3  4310911       60879           model_2       123  2015-11-16 07:00:13\n",
       "4  4310328       66726           model_1         1  2015-11-16 07:01:08"
      ]
     },
     "execution_count": 51,
     "metadata": {},
     "output_type": "execute_result"
    }
   ],
   "source": [
    "# XGBoost gave the best performance\n",
    "df_test.head(5)"
   ]
  },
  {
   "cell_type": "code",
   "execution_count": null,
   "metadata": {},
   "outputs": [],
   "source": []
  },
  {
   "cell_type": "code",
   "execution_count": 75,
   "metadata": {
    "collapsed": true
   },
   "outputs": [],
   "source": [
    "#Convert random store ids variables to sequential store id's\n",
    "df_test['store_id'] = df_test['store_id'].map(store_ids)"
   ]
  },
  {
   "cell_type": "code",
   "execution_count": 76,
   "metadata": {},
   "outputs": [
    {
     "data": {
      "text/plain": [
       "(11647, 5)"
      ]
     },
     "execution_count": 76,
     "metadata": {},
     "output_type": "execute_result"
    }
   ],
   "source": [
    "df_test.shape"
   ]
  },
  {
   "cell_type": "code",
   "execution_count": 88,
   "metadata": {
    "collapsed": true
   },
   "outputs": [],
   "source": [
    "df_test['fulfillment_model'] = df_test['fulfillment_model'].map({'model_2':2,'model_1':1})"
   ]
  },
  {
   "cell_type": "code",
   "execution_count": 55,
   "metadata": {
    "collapsed": true
   },
   "outputs": [],
   "source": [
    "df_test = pd.merge(df_test, total_quantity_trip,  on = \"trip_id\",how='inner')\n",
    "df_test = pd.merge(df_test, num_distinct_items_trip,  on = \"trip_id\",how='inner')\n",
    "df_test = pd.merge(df_test, num_distinct_department_trip,  on = \"trip_id\",how='inner')"
   ]
  },
  {
   "cell_type": "code",
   "execution_count": 77,
   "metadata": {},
   "outputs": [
    {
     "data": {
      "text/plain": [
       "(11647, 5)"
      ]
     },
     "execution_count": 77,
     "metadata": {},
     "output_type": "execute_result"
    }
   ],
   "source": [
    "df_test.shape"
   ]
  },
  {
   "cell_type": "code",
   "execution_count": 78,
   "metadata": {},
   "outputs": [
    {
     "data": {
      "text/plain": [
       "(11647, 91)"
      ]
     },
     "execution_count": 78,
     "metadata": {},
     "output_type": "execute_result"
    }
   ],
   "source": [
    "orders = pd.read_csv('orders_pivot.csv')\n",
    "orders = orders.fillna(0)\n",
    "df_test = pd.merge(df_test, orders,  on = \"trip_id\",how='inner')\n",
    "\n",
    "df_test.shape"
   ]
  },
  {
   "cell_type": "code",
   "execution_count": 89,
   "metadata": {},
   "outputs": [],
   "source": [
    "X1 = df_test.drop([\"trip_id\", \"shopper_id\", \"shopping_started_at\"], axis=1)"
   ]
  },
  {
   "cell_type": "code",
   "execution_count": 90,
   "metadata": {},
   "outputs": [
    {
     "data": {
      "text/plain": [
       "Index(['trip_id', 'shopper_id', 'fulfillment_model', 'store_id',\n",
       "       'shopping_started_at', 'shopping_ended_at'],\n",
       "      dtype='object')"
      ]
     },
     "execution_count": 90,
     "metadata": {},
     "output_type": "execute_result"
    }
   ],
   "source": [
    "df_train.columns"
   ]
  },
  {
   "cell_type": "code",
   "execution_count": 91,
   "metadata": {},
   "outputs": [
    {
     "data": {
      "text/plain": [
       "(11647, 88)"
      ]
     },
     "execution_count": 91,
     "metadata": {},
     "output_type": "execute_result"
    }
   ],
   "source": [
    "X1.shape"
   ]
  },
  {
   "cell_type": "code",
   "execution_count": 92,
   "metadata": {},
   "outputs": [
    {
     "ename": "ValueError",
     "evalue": "feature_names mismatch: ['fulfillment_model', 'store_id', 'total_quantity', 'distinct_items', 'distinct_departments', '25% OFF Supplements 8/14-8/16', '4th of July', 'Academy Awards', 'Alcohol', 'All It Takes to Bake!', 'Aquatics', 'BBQ Favorites', 'Babies', 'Bakery', 'Beverages', 'Bi-Rite Creamery', \"Bi-Rite's Winter Favorites!\", 'Bird', 'Breakfast', 'Bulk', 'Burning Man Essentials', 'Business Items', \"Buyers' Picks\", 'Canned Goods', 'Cat', 'Cheese', 'Christmas & NYE Menu', 'Costumes', 'Dairy & Eggs', 'Deli', 'Dog', 'Dry Goods & Pasta', 'Fall Wine, Beer, & Spirits', \"Father's Day\", 'Fill the Grill', 'Find it at Target', 'FitMarket', 'Floral', 'Flowers & Plants', 'Fromagerie', 'Frozen', 'Game Day Specials', 'Gifts for the Foodie', 'Halloween', 'Hanukkah', 'Hanukkah Menu', 'Healthy Choices for 2016', 'Healthy Eating', 'Holiday', 'Holiday Butcher', 'Holiday Essentials', 'Holiday Favorites', 'Holiday Turkeys', 'Holidays', 'Household', 'Ice Cream Social!', 'International', 'Local', 'Local Favorites', 'Meat & Seafood', \"Mother's Day\", \"New Year's Eve Extravaganza!\", 'Newly Added', 'Olives, Gourmet Cheese, Salads', 'Our Brands', 'Pantry', 'Passover & Easter', 'Personal Care', 'Pets', 'Popular', 'Produce', 'Ready to Cook', 'Ready to Eat', 'Reptile', 'Rosh Hashanah & Yom Kippur', 'Seasonal', 'Small Animal', 'Smoothie Central', 'Snacks', \"St. Patrick's Day Specials\", 'Star Wars', 'Summer Drinks', 'Super Bowl Party', 'TEST SPECIAL AISLE', 'Thanksgiving', 'Thanksgiving A to Z', 'Thanksgiving Menu', 'Travel', \"Valentine's Day Specials\", \"Valentine's- Made with Love!\", 'Vitamins & Supplements', 'start_month', 'start_day', 'start_weekday', 'start_hour', 'start_minute'] ['fulfillment_model', 'store_id', '25% OFF Supplements 8/14-8/16', '4th of July', 'Academy Awards', 'Alcohol', 'All It Takes to Bake!', 'Aquatics', 'BBQ Favorites', 'Babies', 'Bakery', 'Beverages', 'Bi-Rite Creamery', \"Bi-Rite's Winter Favorites!\", 'Bird', 'Breakfast', 'Bulk', 'Burning Man Essentials', 'Business Items', \"Buyers' Picks\", 'Canned Goods', 'Cat', 'Cheese', 'Christmas & NYE Menu', 'Costumes', 'Dairy & Eggs', 'Deli', 'Dog', 'Dry Goods & Pasta', 'Fall Wine, Beer, & Spirits', \"Father's Day\", 'Fill the Grill', 'Find it at Target', 'FitMarket', 'Floral', 'Flowers & Plants', 'Fromagerie', 'Frozen', 'Game Day Specials', 'Gifts for the Foodie', 'Halloween', 'Hanukkah', 'Hanukkah Menu', 'Healthy Choices for 2016', 'Healthy Eating', 'Holiday', 'Holiday Butcher', 'Holiday Essentials', 'Holiday Favorites', 'Holiday Turkeys', 'Holidays', 'Household', 'Ice Cream Social!', 'International', 'Local', 'Local Favorites', 'Meat & Seafood', \"Mother's Day\", \"New Year's Eve Extravaganza!\", 'Newly Added', 'Olives, Gourmet Cheese, Salads', 'Our Brands', 'Pantry', 'Passover & Easter', 'Personal Care', 'Pets', 'Popular', 'Produce', 'Ready to Cook', 'Ready to Eat', 'Reptile', 'Rosh Hashanah & Yom Kippur', 'Seasonal', 'Small Animal', 'Smoothie Central', 'Snacks', \"St. Patrick's Day Specials\", 'Star Wars', 'Summer Drinks', 'Super Bowl Party', 'TEST SPECIAL AISLE', 'Thanksgiving', 'Thanksgiving A to Z', 'Thanksgiving Menu', 'Travel', \"Valentine's Day Specials\", \"Valentine's- Made with Love!\", 'Vitamins & Supplements']\nexpected start_hour, start_month, distinct_items, total_quantity, start_day, distinct_departments, start_minute, start_weekday in input data",
     "output_type": "error",
     "traceback": [
      "\u001b[0;31m---------------------------------------------------------------------------\u001b[0m",
      "\u001b[0;31mValueError\u001b[0m                                Traceback (most recent call last)",
      "\u001b[0;32m<ipython-input-92-3f653f63052f>\u001b[0m in \u001b[0;36m<module>\u001b[0;34m()\u001b[0m\n\u001b[1;32m      1\u001b[0m \u001b[0;31m# Run prediction on the test set.\u001b[0m\u001b[0;34m\u001b[0m\u001b[0;34m\u001b[0m\u001b[0m\n\u001b[0;32m----> 2\u001b[0;31m \u001b[0my_pred_xgb1\u001b[0m \u001b[0;34m=\u001b[0m \u001b[0mregr\u001b[0m\u001b[0;34m.\u001b[0m\u001b[0mpredict\u001b[0m\u001b[0;34m(\u001b[0m\u001b[0mX1\u001b[0m\u001b[0;34m)\u001b[0m\u001b[0;34m\u001b[0m\u001b[0m\n\u001b[0m\u001b[1;32m      3\u001b[0m \u001b[0;34m\u001b[0m\u001b[0m\n\u001b[1;32m      4\u001b[0m \u001b[0;31m# print('XGBoost Variance score: %.2f' % r2_score(y_test, y_pred_xgb))\u001b[0m\u001b[0;34m\u001b[0m\u001b[0;34m\u001b[0m\u001b[0m\n",
      "\u001b[0;32m~/anaconda3/lib/python3.6/site-packages/xgboost/sklearn.py\u001b[0m in \u001b[0;36mpredict\u001b[0;34m(self, data, output_margin, ntree_limit)\u001b[0m\n\u001b[1;32m    345\u001b[0m         return self.get_booster().predict(test_dmatrix,\n\u001b[1;32m    346\u001b[0m                                           \u001b[0moutput_margin\u001b[0m\u001b[0;34m=\u001b[0m\u001b[0moutput_margin\u001b[0m\u001b[0;34m,\u001b[0m\u001b[0;34m\u001b[0m\u001b[0m\n\u001b[0;32m--> 347\u001b[0;31m                                           ntree_limit=ntree_limit)\n\u001b[0m\u001b[1;32m    348\u001b[0m \u001b[0;34m\u001b[0m\u001b[0m\n\u001b[1;32m    349\u001b[0m     \u001b[0;32mdef\u001b[0m \u001b[0mapply\u001b[0m\u001b[0;34m(\u001b[0m\u001b[0mself\u001b[0m\u001b[0;34m,\u001b[0m \u001b[0mX\u001b[0m\u001b[0;34m,\u001b[0m \u001b[0mntree_limit\u001b[0m\u001b[0;34m=\u001b[0m\u001b[0;36m0\u001b[0m\u001b[0;34m)\u001b[0m\u001b[0;34m:\u001b[0m\u001b[0;34m\u001b[0m\u001b[0m\n",
      "\u001b[0;32m~/anaconda3/lib/python3.6/site-packages/xgboost/core.py\u001b[0m in \u001b[0;36mpredict\u001b[0;34m(self, data, output_margin, ntree_limit, pred_leaf, pred_contribs, approx_contribs, pred_interactions, validate_features)\u001b[0m\n\u001b[1;32m   1192\u001b[0m \u001b[0;34m\u001b[0m\u001b[0m\n\u001b[1;32m   1193\u001b[0m         \u001b[0;32mif\u001b[0m \u001b[0mvalidate_features\u001b[0m\u001b[0;34m:\u001b[0m\u001b[0;34m\u001b[0m\u001b[0m\n\u001b[0;32m-> 1194\u001b[0;31m             \u001b[0mself\u001b[0m\u001b[0;34m.\u001b[0m\u001b[0m_validate_features\u001b[0m\u001b[0;34m(\u001b[0m\u001b[0mdata\u001b[0m\u001b[0;34m)\u001b[0m\u001b[0;34m\u001b[0m\u001b[0m\n\u001b[0m\u001b[1;32m   1195\u001b[0m \u001b[0;34m\u001b[0m\u001b[0m\n\u001b[1;32m   1196\u001b[0m         \u001b[0mlength\u001b[0m \u001b[0;34m=\u001b[0m \u001b[0mc_bst_ulong\u001b[0m\u001b[0;34m(\u001b[0m\u001b[0;34m)\u001b[0m\u001b[0;34m\u001b[0m\u001b[0m\n",
      "\u001b[0;32m~/anaconda3/lib/python3.6/site-packages/xgboost/core.py\u001b[0m in \u001b[0;36m_validate_features\u001b[0;34m(self, data)\u001b[0m\n\u001b[1;32m   1475\u001b[0m \u001b[0;34m\u001b[0m\u001b[0m\n\u001b[1;32m   1476\u001b[0m                 raise ValueError(msg.format(self.feature_names,\n\u001b[0;32m-> 1477\u001b[0;31m                                             data.feature_names))\n\u001b[0m\u001b[1;32m   1478\u001b[0m \u001b[0;34m\u001b[0m\u001b[0m\n\u001b[1;32m   1479\u001b[0m     \u001b[0;32mdef\u001b[0m \u001b[0mget_split_value_histogram\u001b[0m\u001b[0;34m(\u001b[0m\u001b[0mself\u001b[0m\u001b[0;34m,\u001b[0m \u001b[0mfeature\u001b[0m\u001b[0;34m,\u001b[0m \u001b[0mfmap\u001b[0m\u001b[0;34m=\u001b[0m\u001b[0;34m''\u001b[0m\u001b[0;34m,\u001b[0m \u001b[0mbins\u001b[0m\u001b[0;34m=\u001b[0m\u001b[0;32mNone\u001b[0m\u001b[0;34m,\u001b[0m \u001b[0mas_pandas\u001b[0m\u001b[0;34m=\u001b[0m\u001b[0;32mTrue\u001b[0m\u001b[0;34m)\u001b[0m\u001b[0;34m:\u001b[0m\u001b[0;34m\u001b[0m\u001b[0m\n",
      "\u001b[0;31mValueError\u001b[0m: feature_names mismatch: ['fulfillment_model', 'store_id', 'total_quantity', 'distinct_items', 'distinct_departments', '25% OFF Supplements 8/14-8/16', '4th of July', 'Academy Awards', 'Alcohol', 'All It Takes to Bake!', 'Aquatics', 'BBQ Favorites', 'Babies', 'Bakery', 'Beverages', 'Bi-Rite Creamery', \"Bi-Rite's Winter Favorites!\", 'Bird', 'Breakfast', 'Bulk', 'Burning Man Essentials', 'Business Items', \"Buyers' Picks\", 'Canned Goods', 'Cat', 'Cheese', 'Christmas & NYE Menu', 'Costumes', 'Dairy & Eggs', 'Deli', 'Dog', 'Dry Goods & Pasta', 'Fall Wine, Beer, & Spirits', \"Father's Day\", 'Fill the Grill', 'Find it at Target', 'FitMarket', 'Floral', 'Flowers & Plants', 'Fromagerie', 'Frozen', 'Game Day Specials', 'Gifts for the Foodie', 'Halloween', 'Hanukkah', 'Hanukkah Menu', 'Healthy Choices for 2016', 'Healthy Eating', 'Holiday', 'Holiday Butcher', 'Holiday Essentials', 'Holiday Favorites', 'Holiday Turkeys', 'Holidays', 'Household', 'Ice Cream Social!', 'International', 'Local', 'Local Favorites', 'Meat & Seafood', \"Mother's Day\", \"New Year's Eve Extravaganza!\", 'Newly Added', 'Olives, Gourmet Cheese, Salads', 'Our Brands', 'Pantry', 'Passover & Easter', 'Personal Care', 'Pets', 'Popular', 'Produce', 'Ready to Cook', 'Ready to Eat', 'Reptile', 'Rosh Hashanah & Yom Kippur', 'Seasonal', 'Small Animal', 'Smoothie Central', 'Snacks', \"St. Patrick's Day Specials\", 'Star Wars', 'Summer Drinks', 'Super Bowl Party', 'TEST SPECIAL AISLE', 'Thanksgiving', 'Thanksgiving A to Z', 'Thanksgiving Menu', 'Travel', \"Valentine's Day Specials\", \"Valentine's- Made with Love!\", 'Vitamins & Supplements', 'start_month', 'start_day', 'start_weekday', 'start_hour', 'start_minute'] ['fulfillment_model', 'store_id', '25% OFF Supplements 8/14-8/16', '4th of July', 'Academy Awards', 'Alcohol', 'All It Takes to Bake!', 'Aquatics', 'BBQ Favorites', 'Babies', 'Bakery', 'Beverages', 'Bi-Rite Creamery', \"Bi-Rite's Winter Favorites!\", 'Bird', 'Breakfast', 'Bulk', 'Burning Man Essentials', 'Business Items', \"Buyers' Picks\", 'Canned Goods', 'Cat', 'Cheese', 'Christmas & NYE Menu', 'Costumes', 'Dairy & Eggs', 'Deli', 'Dog', 'Dry Goods & Pasta', 'Fall Wine, Beer, & Spirits', \"Father's Day\", 'Fill the Grill', 'Find it at Target', 'FitMarket', 'Floral', 'Flowers & Plants', 'Fromagerie', 'Frozen', 'Game Day Specials', 'Gifts for the Foodie', 'Halloween', 'Hanukkah', 'Hanukkah Menu', 'Healthy Choices for 2016', 'Healthy Eating', 'Holiday', 'Holiday Butcher', 'Holiday Essentials', 'Holiday Favorites', 'Holiday Turkeys', 'Holidays', 'Household', 'Ice Cream Social!', 'International', 'Local', 'Local Favorites', 'Meat & Seafood', \"Mother's Day\", \"New Year's Eve Extravaganza!\", 'Newly Added', 'Olives, Gourmet Cheese, Salads', 'Our Brands', 'Pantry', 'Passover & Easter', 'Personal Care', 'Pets', 'Popular', 'Produce', 'Ready to Cook', 'Ready to Eat', 'Reptile', 'Rosh Hashanah & Yom Kippur', 'Seasonal', 'Small Animal', 'Smoothie Central', 'Snacks', \"St. Patrick's Day Specials\", 'Star Wars', 'Summer Drinks', 'Super Bowl Party', 'TEST SPECIAL AISLE', 'Thanksgiving', 'Thanksgiving A to Z', 'Thanksgiving Menu', 'Travel', \"Valentine's Day Specials\", \"Valentine's- Made with Love!\", 'Vitamins & Supplements']\nexpected start_hour, start_month, distinct_items, total_quantity, start_day, distinct_departments, start_minute, start_weekday in input data"
     ]
    }
   ],
   "source": [
    "# Run prediction on the test set.\n",
    "y_pred_xgb1 = regr.predict(X1)\n",
    "\n",
    "# print('XGBoost Variance score: %.2f' % r2_score(y_test, y_pred_xgb))"
   ]
  },
  {
   "cell_type": "code",
   "execution_count": 87,
   "metadata": {},
   "outputs": [
    {
     "data": {
      "text/html": [
       "<div>\n",
       "<style>\n",
       "    .dataframe thead tr:only-child th {\n",
       "        text-align: right;\n",
       "    }\n",
       "\n",
       "    .dataframe thead th {\n",
       "        text-align: left;\n",
       "    }\n",
       "\n",
       "    .dataframe tbody tr th {\n",
       "        vertical-align: top;\n",
       "    }\n",
       "</style>\n",
       "<table border=\"1\" class=\"dataframe\">\n",
       "  <thead>\n",
       "    <tr style=\"text-align: right;\">\n",
       "      <th></th>\n",
       "      <th>fulfillment_model</th>\n",
       "      <th>store_id</th>\n",
       "      <th>25% OFF Supplements 8/14-8/16</th>\n",
       "      <th>4th of July</th>\n",
       "      <th>Academy Awards</th>\n",
       "      <th>Alcohol</th>\n",
       "      <th>All It Takes to Bake!</th>\n",
       "      <th>Aquatics</th>\n",
       "      <th>BBQ Favorites</th>\n",
       "      <th>Babies</th>\n",
       "      <th>...</th>\n",
       "      <th>Summer Drinks</th>\n",
       "      <th>Super Bowl Party</th>\n",
       "      <th>TEST SPECIAL AISLE</th>\n",
       "      <th>Thanksgiving</th>\n",
       "      <th>Thanksgiving A to Z</th>\n",
       "      <th>Thanksgiving Menu</th>\n",
       "      <th>Travel</th>\n",
       "      <th>Valentine's Day Specials</th>\n",
       "      <th>Valentine's- Made with Love!</th>\n",
       "      <th>Vitamins &amp; Supplements</th>\n",
       "    </tr>\n",
       "  </thead>\n",
       "  <tbody>\n",
       "    <tr>\n",
       "      <th>0</th>\n",
       "      <td>model_2</td>\n",
       "      <td>12</td>\n",
       "      <td>0.0</td>\n",
       "      <td>0.0</td>\n",
       "      <td>0.0</td>\n",
       "      <td>0.0</td>\n",
       "      <td>0.0</td>\n",
       "      <td>0.0</td>\n",
       "      <td>0.0</td>\n",
       "      <td>2.0</td>\n",
       "      <td>...</td>\n",
       "      <td>0.0</td>\n",
       "      <td>0.0</td>\n",
       "      <td>0.0</td>\n",
       "      <td>0.0</td>\n",
       "      <td>0.0</td>\n",
       "      <td>0.0</td>\n",
       "      <td>0.0</td>\n",
       "      <td>0.0</td>\n",
       "      <td>0.0</td>\n",
       "      <td>0.0</td>\n",
       "    </tr>\n",
       "    <tr>\n",
       "      <th>1</th>\n",
       "      <td>model_2</td>\n",
       "      <td>12</td>\n",
       "      <td>0.0</td>\n",
       "      <td>0.0</td>\n",
       "      <td>0.0</td>\n",
       "      <td>0.0</td>\n",
       "      <td>0.0</td>\n",
       "      <td>0.0</td>\n",
       "      <td>0.0</td>\n",
       "      <td>0.0</td>\n",
       "      <td>...</td>\n",
       "      <td>0.0</td>\n",
       "      <td>0.0</td>\n",
       "      <td>0.0</td>\n",
       "      <td>0.0</td>\n",
       "      <td>0.0</td>\n",
       "      <td>0.0</td>\n",
       "      <td>0.0</td>\n",
       "      <td>0.0</td>\n",
       "      <td>0.0</td>\n",
       "      <td>0.0</td>\n",
       "    </tr>\n",
       "    <tr>\n",
       "      <th>2</th>\n",
       "      <td>model_2</td>\n",
       "      <td>12</td>\n",
       "      <td>0.0</td>\n",
       "      <td>0.0</td>\n",
       "      <td>0.0</td>\n",
       "      <td>0.0</td>\n",
       "      <td>0.0</td>\n",
       "      <td>0.0</td>\n",
       "      <td>0.0</td>\n",
       "      <td>0.0</td>\n",
       "      <td>...</td>\n",
       "      <td>0.0</td>\n",
       "      <td>0.0</td>\n",
       "      <td>0.0</td>\n",
       "      <td>0.0</td>\n",
       "      <td>0.0</td>\n",
       "      <td>0.0</td>\n",
       "      <td>0.0</td>\n",
       "      <td>0.0</td>\n",
       "      <td>0.0</td>\n",
       "      <td>0.0</td>\n",
       "    </tr>\n",
       "    <tr>\n",
       "      <th>3</th>\n",
       "      <td>model_2</td>\n",
       "      <td>12</td>\n",
       "      <td>0.0</td>\n",
       "      <td>0.0</td>\n",
       "      <td>0.0</td>\n",
       "      <td>0.0</td>\n",
       "      <td>0.0</td>\n",
       "      <td>0.0</td>\n",
       "      <td>0.0</td>\n",
       "      <td>1.0</td>\n",
       "      <td>...</td>\n",
       "      <td>0.0</td>\n",
       "      <td>0.0</td>\n",
       "      <td>0.0</td>\n",
       "      <td>0.0</td>\n",
       "      <td>0.0</td>\n",
       "      <td>0.0</td>\n",
       "      <td>0.0</td>\n",
       "      <td>0.0</td>\n",
       "      <td>0.0</td>\n",
       "      <td>0.0</td>\n",
       "    </tr>\n",
       "    <tr>\n",
       "      <th>4</th>\n",
       "      <td>model_1</td>\n",
       "      <td>1</td>\n",
       "      <td>0.0</td>\n",
       "      <td>0.0</td>\n",
       "      <td>0.0</td>\n",
       "      <td>0.0</td>\n",
       "      <td>0.0</td>\n",
       "      <td>0.0</td>\n",
       "      <td>0.0</td>\n",
       "      <td>0.0</td>\n",
       "      <td>...</td>\n",
       "      <td>0.0</td>\n",
       "      <td>0.0</td>\n",
       "      <td>0.0</td>\n",
       "      <td>0.0</td>\n",
       "      <td>0.0</td>\n",
       "      <td>0.0</td>\n",
       "      <td>0.0</td>\n",
       "      <td>0.0</td>\n",
       "      <td>0.0</td>\n",
       "      <td>0.0</td>\n",
       "    </tr>\n",
       "  </tbody>\n",
       "</table>\n",
       "<p>5 rows × 88 columns</p>\n",
       "</div>"
      ],
      "text/plain": [
       "  fulfillment_model  store_id  25% OFF Supplements 8/14-8/16  4th of July  \\\n",
       "0           model_2        12                            0.0          0.0   \n",
       "1           model_2        12                            0.0          0.0   \n",
       "2           model_2        12                            0.0          0.0   \n",
       "3           model_2        12                            0.0          0.0   \n",
       "4           model_1         1                            0.0          0.0   \n",
       "\n",
       "   Academy Awards  Alcohol  All It Takes to Bake!  Aquatics  BBQ Favorites  \\\n",
       "0             0.0      0.0                    0.0       0.0            0.0   \n",
       "1             0.0      0.0                    0.0       0.0            0.0   \n",
       "2             0.0      0.0                    0.0       0.0            0.0   \n",
       "3             0.0      0.0                    0.0       0.0            0.0   \n",
       "4             0.0      0.0                    0.0       0.0            0.0   \n",
       "\n",
       "   Babies           ...            Summer Drinks  Super Bowl Party  \\\n",
       "0     2.0           ...                      0.0               0.0   \n",
       "1     0.0           ...                      0.0               0.0   \n",
       "2     0.0           ...                      0.0               0.0   \n",
       "3     1.0           ...                      0.0               0.0   \n",
       "4     0.0           ...                      0.0               0.0   \n",
       "\n",
       "   TEST SPECIAL AISLE  Thanksgiving  Thanksgiving A to Z  Thanksgiving Menu  \\\n",
       "0                 0.0           0.0                  0.0                0.0   \n",
       "1                 0.0           0.0                  0.0                0.0   \n",
       "2                 0.0           0.0                  0.0                0.0   \n",
       "3                 0.0           0.0                  0.0                0.0   \n",
       "4                 0.0           0.0                  0.0                0.0   \n",
       "\n",
       "   Travel  Valentine's Day Specials  Valentine's- Made with Love!  \\\n",
       "0     0.0                       0.0                           0.0   \n",
       "1     0.0                       0.0                           0.0   \n",
       "2     0.0                       0.0                           0.0   \n",
       "3     0.0                       0.0                           0.0   \n",
       "4     0.0                       0.0                           0.0   \n",
       "\n",
       "   Vitamins & Supplements  \n",
       "0                     0.0  \n",
       "1                     0.0  \n",
       "2                     0.0  \n",
       "3                     0.0  \n",
       "4                     0.0  \n",
       "\n",
       "[5 rows x 88 columns]"
      ]
     },
     "execution_count": 87,
     "metadata": {},
     "output_type": "execute_result"
    }
   ],
   "source": [
    "X1.head(5)"
   ]
  },
  {
   "cell_type": "code",
   "execution_count": null,
   "metadata": {
    "collapsed": true
   },
   "outputs": [],
   "source": []
  }
 ],
 "metadata": {
  "kernelspec": {
   "display_name": "Python 3",
   "language": "python",
   "name": "python3"
  },
  "language_info": {
   "codemirror_mode": {
    "name": "ipython",
    "version": 3
   },
   "file_extension": ".py",
   "mimetype": "text/x-python",
   "name": "python",
   "nbconvert_exporter": "python",
   "pygments_lexer": "ipython3",
   "version": "3.6.3"
  }
 },
 "nbformat": 4,
 "nbformat_minor": 2
}
